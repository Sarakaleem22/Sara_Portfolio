{
  "nbformat": 4,
  "nbformat_minor": 0,
  "metadata": {
    "kernelspec": {
      "display_name": "Python 3",
      "language": "python",
      "name": "python3"
    },
    "language_info": {
      "codemirror_mode": {
        "name": "ipython",
        "version": 3
      },
      "file_extension": ".py",
      "mimetype": "text/x-python",
      "name": "python",
      "nbconvert_exporter": "python",
      "pygments_lexer": "ipython3",
      "version": "3.6.4"
    },
    "colab": {
      "name": "SMS Spam Classifier.ipynb",
      "provenance": []
    }
  },
  "cells": [
    {
      "cell_type": "code",
      "metadata": {
        "id": "CKXOwvRBkF07"
      },
      "source": [
        "#Creating a model that can classify SPAM and HAM SMS\n",
        "import numpy as np\n",
        "import pandas as pd\n",
        "import matplotlib.pyplot as plt\n",
        "import seaborn as sns\n",
        "%matplotlib inline"
      ],
      "execution_count": null,
      "outputs": []
    },
    {
      "cell_type": "code",
      "metadata": {
        "id": "a7eUV1KdkF1V"
      },
      "source": [
        "smsData = pd.read_csv('SMSSpamCollection' , sep='\\t' , names=['label','message'])"
      ],
      "execution_count": null,
      "outputs": []
    },
    {
      "cell_type": "code",
      "metadata": {
        "id": "67snVhJ0kF1Y",
        "outputId": "d24e35f2-96c2-46f3-fa5d-c0b181c73885"
      },
      "source": [
        "smsData.info()"
      ],
      "execution_count": null,
      "outputs": [
        {
          "name": "stdout",
          "output_type": "stream",
          "text": [
            "<class 'pandas.core.frame.DataFrame'>\n",
            "RangeIndex: 5572 entries, 0 to 5571\n",
            "Data columns (total 2 columns):\n",
            "label      5572 non-null object\n",
            "message    5572 non-null object\n",
            "dtypes: object(2)\n",
            "memory usage: 87.1+ KB\n"
          ]
        }
      ]
    },
    {
      "cell_type": "code",
      "metadata": {
        "id": "jAZ_qSmSkF1d"
      },
      "source": [
        "#Sklearn to convert message column into logical numeric column which algo can understand!\n",
        "#Function for Text preprocessing to create BagOfWords\n",
        "import string\n",
        "from nltk.corpus import stopwords\n",
        "def textPreprocessing(data):\n",
        "    #Remove Punctuations\n",
        "    removePunctuations = [character for character in data if character not in string.punctuation]\n",
        "    finalSentence = ''.join(removePunctuations)\n",
        "    #Remove Stopwords\n",
        "    words = finalSentence.split(\" \")\n",
        "    removeStopwords = [word for word in words if word.lower() not in stopwords.words('english')]\n",
        "    #Return list of words\n",
        "    return removeStopwords"
      ],
      "execution_count": null,
      "outputs": []
    },
    {
      "cell_type": "code",
      "metadata": {
        "id": "3QQihNiVkF1i"
      },
      "source": [
        "#Create BagOfWords\n",
        "from sklearn.feature_extraction.text import CountVectorizer\n",
        "wordVector = CountVectorizer(analyzer=textPreprocessing )\n",
        "featureWordVector = wordVector.fit(smsData.message)"
      ],
      "execution_count": null,
      "outputs": []
    },
    {
      "cell_type": "code",
      "metadata": {
        "id": "1uGG7q6SkF1k"
      },
      "source": [
        "bagOfWords = featureWordVector.transform(smsData.message)"
      ],
      "execution_count": null,
      "outputs": []
    },
    {
      "cell_type": "code",
      "metadata": {
        "id": "U8m-at2KkF1m"
      },
      "source": [
        "#Frequecy within range of 0 to 1\n",
        "#TF-IDF\n",
        "from sklearn.feature_extraction.text import TfidfTransformer\n",
        "tfIDFtransformer = TfidfTransformer().fit(bagOfWords)"
      ],
      "execution_count": null,
      "outputs": []
    },
    {
      "cell_type": "code",
      "metadata": {
        "id": "9dYTiz3OkF1p"
      },
      "source": [
        "finalFeatureMessage = tfIDFtransformer.transform(bagOfWords)"
      ],
      "execution_count": null,
      "outputs": []
    },
    {
      "cell_type": "code",
      "metadata": {
        "id": "QzKFLap1kF1u"
      },
      "source": [
        "#Model Implementation\n",
        "from sklearn.naive_bayes import MultinomialNB\n",
        "model = MultinomialNB().fit(finalFeatureMessage, smsData['label'])\n"
      ],
      "execution_count": null,
      "outputs": []
    },
    {
      "cell_type": "code",
      "metadata": {
        "id": "1eTQBQY5kF1y",
        "outputId": "2730769e-a9ca-4689-d722-b5af42b075d8"
      },
      "source": [
        "model.score(finalFeatureMessage,smsData['label'])"
      ],
      "execution_count": null,
      "outputs": [
        {
          "data": {
            "text/plain": [
              "0.9791816223977028"
            ]
          },
          "execution_count": 18,
          "metadata": {},
          "output_type": "execute_result"
        }
      ]
    },
    {
      "cell_type": "code",
      "metadata": {
        "id": "Ci_pjOMpkF11",
        "outputId": "2836a7b2-3db6-42d0-b226-c24eb4c1337e"
      },
      "source": [
        "smsUnknown = input(\"Enter SMS to check:\") \n",
        "step1 = textPreprocessing(smsUnknown)\n",
        "step2 = featureWordVector.transform(step1)\n",
        "step3 = tfIDFtransformer.transform(step2)\n",
        "predict = model.predict(step3[0])\n",
        "print(predict)\n"
      ],
      "execution_count": null,
      "outputs": [
        {
          "name": "stdout",
          "output_type": "stream",
          "text": [
            "Enter SMS to check:Win Lottery \n",
            "['spam']\n"
          ]
        }
      ]
    },
    {
      "cell_type": "code",
      "metadata": {
        "id": "3jc32xMnkF13"
      },
      "source": [
        ""
      ],
      "execution_count": null,
      "outputs": []
    }
  ]
}